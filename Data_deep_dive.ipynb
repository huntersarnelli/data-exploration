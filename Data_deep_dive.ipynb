{
  "nbformat": 4,
  "nbformat_minor": 0,
  "metadata": {
    "colab": {
      "provenance": [],
      "authorship_tag": "ABX9TyNPrzpnHdixNCRS/C5TVOgX",
      "include_colab_link": true
    },
    "kernelspec": {
      "name": "python3",
      "display_name": "Python 3"
    },
    "language_info": {
      "name": "python"
    }
  },
  "cells": [
    {
      "cell_type": "markdown",
      "metadata": {
        "id": "view-in-github",
        "colab_type": "text"
      },
      "source": [
        "<a href=\"https://colab.research.google.com/github/huntersarnelli/data-exploration/blob/main/Data_deep_dive.ipynb\" target=\"_parent\"><img src=\"https://colab.research.google.com/assets/colab-badge.svg\" alt=\"Open In Colab\"/></a>"
      ]
    },
    {
      "cell_type": "markdown",
      "source": [
        "I will write some code that gives some ideas for data exploration prior to starting a project. This should allow me to view missing data in detial"
      ],
      "metadata": {
        "id": "EQ5ZSH8Uivkt"
      }
    },
    {
      "cell_type": "code",
      "execution_count": null,
      "metadata": {
        "id": "O5JFXItsit17"
      },
      "outputs": [],
      "source": [
        "import pandas as pd\n",
        "import matplotlib.pyplot as plt\n",
        "import seaborn as sns"
      ]
    },
    {
      "cell_type": "markdown",
      "source": [
        "This will yield a df with columns detialing the missing data and percentage."
      ],
      "metadata": {
        "id": "ilpnhYAljIIT"
      }
    },
    {
      "cell_type": "code",
      "source": [
        "df_train = pd.read_csv('/kaggle/input/playground-series-s5e2/train.csv')\n",
        "df_test = pd.read_csv('/kaggle/input/playground-series-s5e2/test.csv')\n",
        "\n",
        "\n",
        "missing_values = df_train.isnull().sum()\n",
        "missing_percent = (missing_values/len(df_train))*100\n",
        "\n",
        "missing_df = pd.DataFrame({\n",
        "    \"Column\":missing_values.index,\n",
        "    \"Missing Values\": missing_values.values,\n",
        "    \"Missing Value Percent\": missing_percent.round(2).values,\n",
        "    'Data Type': df_train.dtypes.values\n",
        "})\n",
        "\n",
        "missing_df = missing_df.sort_values('Missing Values',ascending=False)\n",
        "\n",
        "print('\\nMissing Values summary:')\n",
        "print(missing_df[missing_df['Missing Values']>=0])"
      ],
      "metadata": {
        "id": "fiQic1hpi9Ez"
      },
      "execution_count": null,
      "outputs": []
    },
    {
      "cell_type": "markdown",
      "source": [
        "This will yield a tight data plots showing the data distribution via count charts."
      ],
      "metadata": {
        "id": "WTG6Q701jUAx"
      }
    },
    {
      "cell_type": "code",
      "source": [
        "import matplotlib.pyplot as plt\n",
        "import seaborn as sns\n",
        "\n",
        "plt.figure(figsize=(20, 15))\n",
        "plt.subplots_adjust(hspace=0.5, wspace=0.3)\n",
        "\n",
        "# Create subplots grid (3x3 for 9 columns)\n",
        "for idx, col in enumerate(df_train.columns, 1):\n",
        "    plt.subplot(3, 3, idx)\n",
        "\n",
        "    # Show top 10 categories for columns with many unique values\n",
        "    if df_train[col].nunique() > 10:\n",
        "        order = df_train[col].value_counts().index[:10]\n",
        "        sns.countplot(y=col, data=df_train, order=order)\n",
        "    else:\n",
        "        sns.countplot(y=col, data=df_train)\n",
        "\n",
        "    plt.title(f'{col} Distribution', size=12)\n",
        "    plt.xlabel('Count')\n",
        "    plt.ylabel('')\n",
        "    plt.xticks(rotation=45)\n",
        "\n",
        "plt.tight_layout()\n",
        "plt.show()"
      ],
      "metadata": {
        "id": "nxCYmAOWjS5N"
      },
      "execution_count": null,
      "outputs": []
    },
    {
      "cell_type": "markdown",
      "source": [
        "Now we may want to visualize it using box plots"
      ],
      "metadata": {
        "id": "hRqcrOflkYgz"
      }
    },
    {
      "cell_type": "code",
      "source": [
        "import pandas as pd\n",
        "import matplotlib.pyplot as plt\n",
        "import seaborn as sns\n",
        "import math\n",
        "\n",
        "# Assume your DataFrame is called df and already contains the data\n",
        "\n",
        "# Define target and feature columns\n",
        "target = 'Price'\n",
        "features = [col for col in df_train.columns if col != target]\n",
        "\n",
        "# Determine grid dimensions for subplots\n",
        "n_features = len(features)\n",
        "ncols = 3\n",
        "nrows = math.ceil(n_features / ncols)\n",
        "\n",
        "# Create the subplots\n",
        "fig, axes = plt.subplots(nrows, ncols, figsize=(5 * ncols, 4 * nrows))\n",
        "axes = axes.flatten()  # flatten in case axes is a 2D array\n",
        "\n",
        "# Loop through each feature and create the appropriate plot\n",
        "for i, col in enumerate(features):\n",
        "    ax = axes[i]\n",
        "\n",
        "    # Check if column is numeric (int or float) - adjust as needed\n",
        "    if pd.api.types.is_numeric_dtype(df_train[col]):\n",
        "        ax.scatter(df_train[col], df_train[target], alpha=0.5)\n",
        "        ax.set_xlabel(col)\n",
        "        ax.set_ylabel(target)\n",
        "        ax.set_title(f'{col} vs {target}')\n",
        "    else:\n",
        "        # For categorical data, use a boxplot to show distribution of price\n",
        "        sns.boxplot(x=df_train[col], y=df_train[target], ax=ax)\n",
        "        ax.set_xlabel(col)\n",
        "        ax.set_ylabel(target)\n",
        "        ax.set_title(f'{col} vs {target}')\n",
        "        # Rotate x labels for better readability if many categories\n",
        "        ax.tick_params(axis='x', rotation=45)\n",
        "\n",
        "# Remove any unused subplots if the total number of features is less than the grid size\n",
        "for j in range(i + 1, len(axes)):\n",
        "    fig.delaxes(axes[j])\n",
        "\n",
        "plt.tight_layout()\n",
        "plt.show()"
      ],
      "metadata": {
        "id": "wiKMJHV-kd8U"
      },
      "execution_count": null,
      "outputs": []
    },
    {
      "cell_type": "markdown",
      "source": [
        "Now if you want to fill in the missing values, this will fill the object data using mode data. and float data using median."
      ],
      "metadata": {
        "id": "Bo7Lk5nnjo3I"
      }
    },
    {
      "cell_type": "code",
      "source": [
        "for col in df_train.select_dtypes(include=['object']).columns:\n",
        "    mode_value = df_train[col].mode()[0]\n",
        "    df_train[col].fillna(mode_value,inplace=True)\n",
        "    print(f\"filled the mssing values in {col} with {mode_value}\")\n",
        "\n",
        "for col in df_train.select_dtypes(include=['float64']).columns:\n",
        "    mode_value = df_train[col].median()\n",
        "    df_train[col].fillna(mode_value,inplace=True)\n",
        "    print(print(f\"filled the mssing values in {col} with {mode_value}\"))"
      ],
      "metadata": {
        "id": "-R70_MDHjn80"
      },
      "execution_count": null,
      "outputs": []
    }
  ]
}