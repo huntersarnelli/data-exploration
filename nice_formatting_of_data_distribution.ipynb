{
  "nbformat": 4,
  "nbformat_minor": 0,
  "metadata": {
    "colab": {
      "provenance": [],
      "authorship_tag": "ABX9TyO+2Dkbsc3QTDHavsZEmU8e",
      "include_colab_link": true
    },
    "kernelspec": {
      "name": "python3",
      "display_name": "Python 3"
    },
    "language_info": {
      "name": "python"
    }
  },
  "cells": [
    {
      "cell_type": "markdown",
      "metadata": {
        "id": "view-in-github",
        "colab_type": "text"
      },
      "source": [
        "<a href=\"https://colab.research.google.com/github/huntersarnelli/data-exploration/blob/main/nice_formatting_of_data_distribution.ipynb\" target=\"_parent\"><img src=\"https://colab.research.google.com/assets/colab-badge.svg\" alt=\"Open In Colab\"/></a>"
      ]
    },
    {
      "cell_type": "code",
      "source": [
        " Analysis of all NUMERICAL features\n",
        "\n",
        "# Define a custom color palette\n",
        "custom_palette = ['#3498db', '#e74c3c','#2ecc71']\n",
        "\n",
        "# Add 'Dataset' column to distinguish between train and test data\n",
        "train_data['Dataset'] = 'Train'\n",
        "test_data['Dataset'] = 'Test'\n",
        "original_data['Dataset'] = 'Original'\n",
        "\n",
        "variables = [col for col in train_data.columns if col in numerical_variables]\n",
        "\n",
        "# Function to create and display a row of plots for a single variable\n",
        "def create_variable_plots(variable):\n",
        "    sns.set_style('whitegrid')\n",
        "\n",
        "    fig, axes = plt.subplots(1, 2, figsize=(12, 4))\n",
        "\n",
        "    # Box plot\n",
        "    plt.subplot(1, 2, 1)\n",
        "    sns.boxplot(data=pd.concat([train_data, test_data,original_data.dropna()]), x=variable, y=\"Dataset\", palette=custom_palette)\n",
        "    plt.xlabel(variable)\n",
        "    plt.title(f\"Box Plot for {variable}\")\n",
        "\n",
        "    # Separate Histograms\n",
        "    plt.subplot(1, 2, 2)\n",
        "    sns.histplot(data=train_data, x=variable, color=custom_palette[0], kde=True, bins=30, label=\"Train\")\n",
        "    sns.histplot(data=test_data, x=variable, color=custom_palette[1], kde=True, bins=30, label=\"Test\")\n",
        "    sns.histplot(data=original_data.dropna(), x=variable, color=custom_palette[2], kde=True, bins=30, label=\"Original\")\n",
        "    plt.xlabel(variable)\n",
        "    plt.ylabel(\"Frequency\")\n",
        "    plt.title(f\"Histogram for {variable} [TRAIN, TEST & ORIGINAL]\")\n",
        "    plt.legend()\n",
        "\n",
        "    # Adjust spacing between subplots\n",
        "    plt.tight_layout()\n",
        "\n",
        "    # Show the plots\n",
        "    plt.show()\n",
        "\n",
        "# Perform univariate analysis for each variable\n",
        "for variable in variables:\n",
        "    create_variable_plots(variable)\n",
        "\n",
        "# Drop the 'Dataset' column after analysis\n",
        "train_data.drop('Dataset', axis=1, inplace=True)\n",
        "test_data.drop('Dataset', axis=1, inplace=True)\n",
        "original_data.drop('Dataset', axis=1, inplace=True)"
      ],
      "metadata": {
        "id": "_J82GnZQ93dd"
      },
      "execution_count": null,
      "outputs": []
    },
    {
      "cell_type": "code",
      "execution_count": null,
      "metadata": {
        "id": "qAVM8LnT9qmT"
      },
      "outputs": [],
      "source": [
        "import matplotlib.pyplot as plt\n",
        "import seaborn as sns\n",
        "import pandas as pd\n",
        "\n",
        "pie_chart_palette = ['#33638d', '#28ae80', '#d3eb0c', '#ff9a0b', '#7e03a8', '#35b779', '#fde725', '#440154', '#90d743', '#482173', '#22a884', '#f8961e']\n",
        "\n",
        "countplot_color = '#5C67A3'\n",
        "\n",
        "# Function to create and display a row of plots for a single categorical variable\n",
        "def create_categorical_plots(variable):\n",
        "    sns.set_style('whitegrid')\n",
        "\n",
        "    fig, axes = plt.subplots(1, 2, figsize=(12, 4))\n",
        "\n",
        "    # Pie Chart\n",
        "    plt.subplot(1, 2, 1)\n",
        "    train_data[variable].value_counts().plot.pie(\n",
        "        autopct='%1.1f%%', colors=pie_chart_palette, wedgeprops=dict(width=0.3), startangle=140\n",
        "    )\n",
        "    plt.title(f\"Pie Chart for {variable}\")\n",
        "\n",
        "    # Bar Graph\n",
        "    plt.subplot(1, 2, 2)\n",
        "    sns.countplot(\n",
        "        data=pd.concat([train_data, test_data, original_data.dropna()]),\n",
        "        x=variable,\n",
        "        color=countplot_color,  # Using a single color for the countplot\n",
        "        alpha=0.8  # Setting 80% opacity\n",
        "    )\n",
        "    plt.xlabel(variable)\n",
        "    plt.ylabel(\"Count\")\n",
        "    plt.title(f\"Bar Graph for {variable} [TRAIN, TEST & ORIGINAL Combined]\")\n",
        "\n",
        "    # Adjust spacing between subplots\n",
        "    plt.tight_layout()\n",
        "\n",
        "    # Show the plots\n",
        "    plt.show()\n",
        "\n",
        "# Perform univariate analysis for each categorical variable\n",
        "for variable in categorical_variables:\n",
        "    create_categorical_plots(variable)"
      ]
    }
  ]
}